{
  "nbformat": 4,
  "nbformat_minor": 0,
  "metadata": {
    "colab": {
      "name": "Numby.ipynb",
      "provenance": [],
      "authorship_tag": "ABX9TyOT7i79A9rwgSUXqTyLIH/g",
      "include_colab_link": true
    },
    "kernelspec": {
      "name": "python3",
      "display_name": "Python 3"
    },
    "language_info": {
      "name": "python"
    }
  },
  "cells": [
    {
      "cell_type": "markdown",
      "metadata": {
        "id": "view-in-github",
        "colab_type": "text"
      },
      "source": [
        "<a href=\"https://colab.research.google.com/github/mohamedhossam23/Python/blob/main/Numby.ipynb\" target=\"_parent\"><img src=\"https://colab.research.google.com/assets/colab-badge.svg\" alt=\"Open In Colab\"/></a>"
      ]
    },
    {
      "cell_type": "markdown",
      "source": [
        "إنشاء مصفوفات NumPy\n"
      ],
      "metadata": {
        "id": "X9m0dj47-7GM"
      }
    },
    {
      "cell_type": "code",
      "execution_count": 2,
      "metadata": {
        "colab": {
          "base_uri": "https://localhost:8080/"
        },
        "id": "INH07Qaz4ssy",
        "outputId": "d6b4c150-5755-4a07-b88d-47e69a18b0da"
      },
      "outputs": [
        {
          "output_type": "execute_result",
          "data": {
            "text/plain": [
              "array([1, 2, 3, 4, 5])"
            ]
          },
          "metadata": {},
          "execution_count": 2
        }
      ],
      "source": [
        "import numpy as np\n",
        "arr1 = np.array([1, 2, 3, 4, 5])\n",
        "arr1"
      ]
    },
    {
      "cell_type": "code",
      "source": [
        "type(arr)"
      ],
      "metadata": {
        "colab": {
          "base_uri": "https://localhost:8080/"
        },
        "id": "1SPO1A-H45qr",
        "outputId": "14522bd2-1b2f-42db-92ee-66d1d2aa520e"
      },
      "execution_count": 3,
      "outputs": [
        {
          "output_type": "execute_result",
          "data": {
            "text/plain": [
              "numpy.ndarray"
            ]
          },
          "metadata": {},
          "execution_count": 3
        }
      ]
    },
    {
      "cell_type": "markdown",
      "source": [
        "2-D المصفوفات"
      ],
      "metadata": {
        "id": "MCspWwLj_MyK"
      }
    },
    {
      "cell_type": "code",
      "source": [
        "arr2 = np.array([[1, 2, 3], [4, 5, 6]])\n",
        "arr2"
      ],
      "metadata": {
        "colab": {
          "base_uri": "https://localhost:8080/"
        },
        "id": "PXxbAOWt47Sv",
        "outputId": "5831c645-36ec-4cb3-c7ea-8b722795ddb4"
      },
      "execution_count": 4,
      "outputs": [
        {
          "output_type": "execute_result",
          "data": {
            "text/plain": [
              "array([[1, 2, 3],\n",
              "       [4, 5, 6]])"
            ]
          },
          "metadata": {},
          "execution_count": 4
        }
      ]
    },
    {
      "cell_type": "markdown",
      "source": [
        "3-D المصفوفات\n"
      ],
      "metadata": {
        "id": "qrQH_XTP_WeE"
      }
    },
    {
      "cell_type": "code",
      "source": [
        "arr3 = np.array([[[1, 2, 3], [4, 5, 6]], [[1, 2, 3], [4, 5, 6]]])\n",
        "arr3"
      ],
      "metadata": {
        "colab": {
          "base_uri": "https://localhost:8080/"
        },
        "id": "Tdvjq3HX_Q2e",
        "outputId": "b184c711-bb59-4fba-9111-e2b6a17f3ce4"
      },
      "execution_count": 5,
      "outputs": [
        {
          "output_type": "execute_result",
          "data": {
            "text/plain": [
              "array([[[1, 2, 3],\n",
              "        [4, 5, 6]],\n",
              "\n",
              "       [[1, 2, 3],\n",
              "        [4, 5, 6]]])"
            ]
          },
          "metadata": {},
          "execution_count": 5
        }
      ]
    },
    {
      "cell_type": "markdown",
      "source": [
        "عدد أبعاد المصفوفة"
      ],
      "metadata": {
        "id": "TxHILomp_u8r"
      }
    },
    {
      "cell_type": "code",
      "source": [
        "arr3.ndim"
      ],
      "metadata": {
        "colab": {
          "base_uri": "https://localhost:8080/"
        },
        "id": "5VieShGM_b9v",
        "outputId": "33ebe486-c4f0-4bf6-895c-253b9fa05840"
      },
      "execution_count": 6,
      "outputs": [
        {
          "output_type": "execute_result",
          "data": {
            "text/plain": [
              "3"
            ]
          },
          "metadata": {},
          "execution_count": 6
        }
      ]
    },
    {
      "cell_type": "markdown",
      "source": [
        "مصفوفات ذات أبعاد أعلى\n"
      ],
      "metadata": {
        "id": "MDl63EswA7Jm"
      }
    },
    {
      "cell_type": "code",
      "source": [
        "import numpy as np\n",
        "\n",
        "arr4 = np.array([1, 2, 3, 4], ndmin=5)\n",
        "arr4"
      ],
      "metadata": {
        "colab": {
          "base_uri": "https://localhost:8080/"
        },
        "id": "bIbqurbN_0LH",
        "outputId": "57e29743-d5a1-41fb-b2d1-62bb40658a17"
      },
      "execution_count": 7,
      "outputs": [
        {
          "output_type": "execute_result",
          "data": {
            "text/plain": [
              "array([[[[[1, 2, 3, 4]]]]])"
            ]
          },
          "metadata": {},
          "execution_count": 7
        }
      ]
    },
    {
      "cell_type": "code",
      "source": [
        "arr4.ndim"
      ],
      "metadata": {
        "colab": {
          "base_uri": "https://localhost:8080/"
        },
        "id": "l7J2kh8wBGOP",
        "outputId": "a58576a5-480e-4f3f-b400-43d0f7d1c3df"
      },
      "execution_count": 8,
      "outputs": [
        {
          "output_type": "execute_result",
          "data": {
            "text/plain": [
              "5"
            ]
          },
          "metadata": {},
          "execution_count": 8
        }
      ]
    },
    {
      "cell_type": "markdown",
      "source": [
        "دمج إلى المصفوفات (Joining)\n"
      ],
      "metadata": {
        "id": "3whejowkLhvj"
      }
    },
    {
      "cell_type": "code",
      "source": [
        "arr5 = np.array([1, 2, 3])\n",
        "arr6 = np.array([4, 5, 6])\n",
        "mixed_arr = np.concatenate((arr5, arr6))\n",
        "mixed_arr"
      ],
      "metadata": {
        "colab": {
          "base_uri": "https://localhost:8080/"
        },
        "id": "jd9nM0YIBIth",
        "outputId": "55604bc0-21b0-4a5a-be48-c36eb07be668"
      },
      "execution_count": 10,
      "outputs": [
        {
          "output_type": "execute_result",
          "data": {
            "text/plain": [
              "array([1, 2, 3, 4, 5, 6])"
            ]
          },
          "metadata": {},
          "execution_count": 10
        }
      ]
    },
    {
      "cell_type": "markdown",
      "source": [
        "تقسيم المصفوفات"
      ],
      "metadata": {
        "id": "9cpvUNzJPg8N"
      }
    },
    {
      "cell_type": "code",
      "source": [
        "sparr = np.array([1, 2, 3, 4, 5, 6])\n",
        "newarr = np.array_split(sparr, 3)\n",
        "newarr"
      ],
      "metadata": {
        "colab": {
          "base_uri": "https://localhost:8080/"
        },
        "id": "89hsIgqfPU3o",
        "outputId": "a811ef74-1a21-487d-f1e7-8da4ef3568e3"
      },
      "execution_count": 12,
      "outputs": [
        {
          "output_type": "execute_result",
          "data": {
            "text/plain": [
              "[array([1, 2]), array([3, 4]), array([5, 6])]"
            ]
          },
          "metadata": {},
          "execution_count": 12
        }
      ]
    },
    {
      "cell_type": "markdown",
      "source": [
        "البحث في المصفوفات"
      ],
      "metadata": {
        "id": "SWAL0VNkQRua"
      }
    },
    {
      "cell_type": "code",
      "source": [
        "searcharr = np.array([1, 2, 3, 4, 5, 4, 4])\n",
        "x = np.where(searcharr == 4)\n",
        "x"
      ],
      "metadata": {
        "colab": {
          "base_uri": "https://localhost:8080/"
        },
        "id": "G9E3VS6-QKl_",
        "outputId": "9d645a8d-085e-4a56-af51-c4aac6205781"
      },
      "execution_count": 13,
      "outputs": [
        {
          "output_type": "execute_result",
          "data": {
            "text/plain": [
              "(array([3, 5, 6]),)"
            ]
          },
          "metadata": {},
          "execution_count": 13
        }
      ]
    },
    {
      "cell_type": "markdown",
      "source": [
        "فرز المصفوفات"
      ],
      "metadata": {
        "id": "TauDv8RUVchi"
      }
    },
    {
      "cell_type": "code",
      "source": [
        "sortarr = np.array([3, 2, 0, 1])\n",
        "np.sort(sortarr)"
      ],
      "metadata": {
        "colab": {
          "base_uri": "https://localhost:8080/"
        },
        "id": "UHVXhCsMVN5r",
        "outputId": "350e0866-afff-4ad5-ffeb-7487d40bc131"
      },
      "execution_count": 15,
      "outputs": [
        {
          "output_type": "stream",
          "name": "stdout",
          "text": [
            "[0 1 2 3]\n"
          ]
        }
      ]
    },
    {
      "cell_type": "markdown",
      "source": [
        "فرز مجموعة ثنائية الأبعاد"
      ],
      "metadata": {
        "id": "h2EmhjEuWs-P"
      }
    },
    {
      "cell_type": "code",
      "source": [
        "sortarr2 = np.array([[3, 2, 4], [5, 0, 1]])\n",
        "np.sort(sortarr2)"
      ],
      "metadata": {
        "colab": {
          "base_uri": "https://localhost:8080/"
        },
        "id": "D3YdKOwtWvqK",
        "outputId": "bed587ee-1ba6-4dc1-eeb7-6fc9d7b34d52"
      },
      "execution_count": 17,
      "outputs": [
        {
          "output_type": "execute_result",
          "data": {
            "text/plain": [
              "array([[2, 3, 4],\n",
              "       [0, 1, 5]])"
            ]
          },
          "metadata": {},
          "execution_count": 17
        }
      ]
    },
    {
      "cell_type": "markdown",
      "source": [
        "تصفية المصفوفة"
      ],
      "metadata": {
        "id": "JzLKe7AbXD_R"
      }
    },
    {
      "cell_type": "code",
      "source": [
        "import numpy as np\n",
        "\n",
        "arr = np.array([41, 42, 43, 44])\n",
        "\n",
        "# Create an empty list\n",
        "filter_arr = []\n",
        "# go through each element in arr\n",
        "for element in arr:\n",
        "  # if the element is higher than 42, set the value to True, otherwise False:\n",
        "  if element > 42:\n",
        "    filter_arr.append(True)\n",
        "  else:\n",
        "    filter_arr.append(False)\n",
        "\n",
        "newarr = arr[filter_arr]\n",
        "\n",
        "newarr"
      ],
      "metadata": {
        "colab": {
          "base_uri": "https://localhost:8080/"
        },
        "id": "uWgV_S3hX5gl",
        "outputId": "c13ee2da-4632-4c09-c950-3ebb9af472a8"
      },
      "execution_count": 20,
      "outputs": [
        {
          "output_type": "execute_result",
          "data": {
            "text/plain": [
              "array([43, 44])"
            ]
          },
          "metadata": {},
          "execution_count": 20
        }
      ]
    }
  ]
}